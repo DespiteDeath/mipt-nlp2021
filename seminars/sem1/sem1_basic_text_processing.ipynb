{
  "nbformat": 4,
  "nbformat_minor": 0,
  "metadata": {
    "colab": {
      "name": "sem1.basic_text_processing.ipynb",
      "provenance": [],
      "collapsed_sections": []
    },
    "kernelspec": {
      "name": "python3",
      "display_name": "Python 3"
    }
  },
  "cells": [
    {
      "cell_type": "markdown",
      "metadata": {
        "id": "A2GlHrdvwNrS"
      },
      "source": [
        "### For colab:\n",
        "Install libs"
      ]
    },
    {
      "cell_type": "code",
      "metadata": {
        "id": "h74PumtUvzFh"
      },
      "source": [
        "import nltk\n",
        "nltk.download('treebank')\n",
        "nltk.download('stopwords')\n",
        "nltk.download('punkt')"
      ],
      "execution_count": null,
      "outputs": []
    },
    {
      "cell_type": "code",
      "metadata": {
        "id": "2KgvFYEIwzue"
      },
      "source": [
        "!pip install rusenttokenize"
      ],
      "execution_count": null,
      "outputs": []
    },
    {
      "cell_type": "code",
      "metadata": {
        "id": "TWK4CfebAqpj"
      },
      "source": [
        "!pip install -U pymorphy2==0.8"
      ],
      "execution_count": null,
      "outputs": []
    },
    {
      "cell_type": "markdown",
      "metadata": {
        "id": "ehIHYotlwUPG"
      },
      "source": [
        "### Load data"
      ]
    },
    {
      "cell_type": "code",
      "metadata": {
        "id": "2TXQkgW1wKK2"
      },
      "source": [
        "!wget -O negative.txt https://raw.githubusercontent.com/king-menin/mipt-nlp2021/master/seminars/sem1/negative.txt\n",
        "!wget -O positive.txt https://raw.githubusercontent.com/king-menin/mipt-nlp2021/master/seminars/sem1/positive.txt"
      ],
      "execution_count": null,
      "outputs": []
    },
    {
      "cell_type": "code",
      "metadata": {
        "id": "5aaFklgSwi1j",
        "colab": {
          "base_uri": "https://localhost:8080/"
        },
        "outputId": "897e8095-8420-4c5f-9521-e0daa3d3f839"
      },
      "source": [
        "!ls"
      ],
      "execution_count": 4,
      "outputs": [
        {
          "output_type": "stream",
          "text": [
            "negative.txt  positive.txt  sample_data\n"
          ],
          "name": "stdout"
        }
      ]
    },
    {
      "cell_type": "markdown",
      "metadata": {
        "id": "ts34aCHbvvYC"
      },
      "source": [
        "# Часть 1. Предобработка текста и классификация"
      ]
    },
    {
      "cell_type": "code",
      "metadata": {
        "id": "PkWsuQYuvvYE"
      },
      "source": [
        "import warnings\n",
        "warnings.filterwarnings('ignore')\n",
        "\n",
        "\n",
        "import numpy as np\n",
        "np.random.seed(1)"
      ],
      "execution_count": 5,
      "outputs": []
    },
    {
      "cell_type": "markdown",
      "metadata": {
        "id": "3eNYvNQbvvYJ"
      },
      "source": [
        "## 1.1 Прочитайте текст в файлах positive.txt и negative.txt"
      ]
    },
    {
      "cell_type": "code",
      "metadata": {
        "id": "ciP1LQ05vvYK"
      },
      "source": [
        "with open(\"positive.txt\", \"r\", encoding=\"utf-8\") as file:\n",
        "    positive_plain = file.read()\n",
        "\n",
        "with open(\"negative.txt\", \"r\", encoding=\"utf-8\") as file:\n",
        "    negative_plain = file.read()"
      ],
      "execution_count": 6,
      "outputs": []
    },
    {
      "cell_type": "code",
      "metadata": {
        "id": "VC9hBIg6vvYO",
        "colab": {
          "base_uri": "https://localhost:8080/"
        },
        "outputId": "5ac8015a-4915-43e5-aa5a-d6f0ff8e3573"
      },
      "source": [
        "print(positive_plain[:400], negative_plain[:400], sep=\"\\n\\n\")"
      ],
      "execution_count": 7,
      "outputs": [
        {
          "output_type": "stream",
          "text": [
            "@first_timee хоть я и школота, но поверь, у нас то же самое :D общество профилирующий предмет типа). Да, все-таки он немного похож на него Но мой мальчик все равно лучше:D. RT @KatiaCheh: Ну ты идиотка) я испугалась за тебя!!!. RT @digger2912: \"Кто то в углу сидит и погибает от голода, а мы ещё 2 порции взяли, хотя уже и так жрать не хотим\" :DD . @irina_dyshkant Вот что значит страшилка :D\n",
            "\n",
            "Но бли\n",
            "\n",
            "на работе был полный пиддес :| и так каждое закрытие месяца, я же свихнусь так D:. Коллеги сидят рубятся в Urban terror, а я из-за долбанной винды не могу :(. @elina_4post как говорят обещаного три года ждут((. Желаю хорошего полёта и удачной посадки,я буду очень сильно скучать( . Обновил за каким-то лешим surf, теперь не работает простоплеер :(. Котёнка вчера носик разбила, плакала и расстраивала\n"
          ],
          "name": "stdout"
        }
      ]
    },
    {
      "cell_type": "markdown",
      "metadata": {
        "id": "XIbhjOCivvYR"
      },
      "source": [
        "## 1.2. Разбейте данные на предложения\n",
        "\n",
        "Для токенизации используйте nltk.sent_tokenize. чтобы удалить имен пользователей из сообщений напишите регулярное выражение.\n",
        "\n",
        "<b>Классы символов в регулярных выражениях</b>:\n",
        "\n",
        "[A-Z] – символы верхнего регистра (латиница)\n",
        "\n",
        "[a-z] – символы нижнего регистра (латиница)\n",
        "\n",
        "[А-Я] – символы верхнего регистра (кириллица)\n",
        "\n",
        "[а-я] – символы нижнего регистра (кириллица)\n",
        "\n",
        "[0-9] или \\d – цифра\n",
        "\n",
        "[^0-9] или \\D – любой символ, кроме цифры\n",
        "\n",
        ". – Один любой символ, кроме новой строки \\n.\n",
        "\n",
        "? – 0 или 1 вхождение шаблона слева\n",
        "\n",
        "\\+ – 1 и более вхождений шаблона слева\n",
        "\n",
        "\\* – 0 и более вхождений шаблона слева\n",
        "\n",
        "\\w – Любая цифра или буква (\\W — все, кроме буквы или цифры)\n",
        "\n",
        "\\d – Любая цифра [0-9] (\\D — все, кроме цифры)\n",
        "\n",
        "\\s – Любой пробельный символ (\\S — любой непробельнй символ)\n",
        "\n",
        "\\b – Граница слова\n",
        "\n",
        "[..] – дин из символов в скобках ([^..] — любой символ, кроме тех, что в скобках)\n",
        "\n",
        "\\ – Экранирование специальных символов (\\. означает точку или \\+ — знак «плюс»)\n",
        "\n",
        "^ и $ – Начало и конец строки соответственно\n",
        "\n",
        "{n,m} – От n до m вхождений ({,m} — от 0 до m)\n",
        "\n",
        "a|b – Соответствует a или b\n",
        "\n",
        "() – Группирует выражение и возвращает найденный текст\n",
        "\n",
        "\\t, \\n, \\r – Символ табуляции, новой строки и возврата каретки соответственно"
      ]
    },
    {
      "cell_type": "code",
      "metadata": {
        "id": "M3zNsGoceo8B"
      },
      "source": [
        "import string"
      ],
      "execution_count": 8,
      "outputs": []
    },
    {
      "cell_type": "code",
      "metadata": {
        "id": "vNyoEngsfCiV",
        "colab": {
          "base_uri": "https://localhost:8080/",
          "height": 35
        },
        "outputId": "da266151-face-41b9-940c-b34abf782718"
      },
      "source": [
        "string.punctuation"
      ],
      "execution_count": 9,
      "outputs": [
        {
          "output_type": "execute_result",
          "data": {
            "application/vnd.google.colaboratory.intrinsic+json": {
              "type": "string"
            },
            "text/plain": [
              "'!\"#$%&\\'()*+,-./:;<=>?@[\\\\]^_`{|}~'"
            ]
          },
          "metadata": {
            "tags": []
          },
          "execution_count": 9
        }
      ]
    },
    {
      "cell_type": "code",
      "metadata": {
        "id": "dJuvsWrzvvYS"
      },
      "source": [
        "import re\n",
        "from nltk import sent_tokenize\n",
        "# from rusenttokenize import ru_sent_tokenize\n",
        "\n",
        "\n",
        "def split_data(text): \n",
        "  # Избавляемся от имен пользователей, указанных в письмах\n",
        "  name = re.compile(\" (@(\\w|\\_)*)\\W\")\n",
        "  res = name.sub(\"\", text) # strip(\"\\\"#$%& \\ () *+,-./:;<=>?@[1]_{1}\")\n",
        "  # Удалите лишние переносы строк и разбейте на предложения по знаку \".\"\n",
        "  res = sent_tokenize(res.replace(\"\\n\", \"\"))\n",
        "  # res = ru_sent_tokenize(res.replace(\"\\n\", \" \"))\n",
        "  return res \n"
      ],
      "execution_count": 10,
      "outputs": []
    },
    {
      "cell_type": "code",
      "metadata": {
        "id": "qtNrkhZSvvYW"
      },
      "source": [
        "positive = split_data(positive_plain)\n",
        "negative = split_data(negative_plain)"
      ],
      "execution_count": 11,
      "outputs": []
    },
    {
      "cell_type": "code",
      "metadata": {
        "id": "xTjP6-YPfuAs",
        "colab": {
          "base_uri": "https://localhost:8080/"
        },
        "outputId": "558d0e07-7955-4d98-c2ac-1e2d9a22e305"
      },
      "source": [
        "print(positive[0])"
      ],
      "execution_count": 12,
      "outputs": [
        {
          "output_type": "stream",
          "text": [
            "@first_timee хоть я и школота, но поверь, у нас то же самое :D общество профилирующий предмет типа).\n"
          ],
          "name": "stdout"
        }
      ]
    },
    {
      "cell_type": "code",
      "metadata": {
        "id": "zsOC1wi_vvYZ",
        "colab": {
          "base_uri": "https://localhost:8080/"
        },
        "outputId": "cea6ab3b-cb56-4e2b-b200-ee02aa216f2f"
      },
      "source": [
        "len(positive), len(negative)"
      ],
      "execution_count": 13,
      "outputs": [
        {
          "output_type": "execute_result",
          "data": {
            "text/plain": [
              "(4457, 4860)"
            ]
          },
          "metadata": {
            "tags": []
          },
          "execution_count": 13
        }
      ]
    },
    {
      "cell_type": "code",
      "metadata": {
        "id": "JsNlbeq-vvYe"
      },
      "source": [
        "pos_labels = [1] * len(positive)"
      ],
      "execution_count": 14,
      "outputs": []
    },
    {
      "cell_type": "code",
      "metadata": {
        "id": "eCMs3KvKvvYl"
      },
      "source": [
        "neg_labels = [0] * len(negative)"
      ],
      "execution_count": 15,
      "outputs": []
    },
    {
      "cell_type": "markdown",
      "metadata": {
        "id": "7WzQG5S5vvYr"
      },
      "source": [
        "Объединим все в один список"
      ]
    },
    {
      "cell_type": "code",
      "metadata": {
        "id": "29yy5BcNvvYt"
      },
      "source": [
        "all_text = positive + negative\n",
        "all_labels = pos_labels + neg_labels"
      ],
      "execution_count": 16,
      "outputs": []
    },
    {
      "cell_type": "code",
      "metadata": {
        "id": "9TJKxGV2vvYy",
        "colab": {
          "base_uri": "https://localhost:8080/"
        },
        "outputId": "ff291a97-c4b7-42c9-e101-b4f298fd1cc4"
      },
      "source": [
        "len(all_text)"
      ],
      "execution_count": 17,
      "outputs": [
        {
          "output_type": "execute_result",
          "data": {
            "text/plain": [
              "9317"
            ]
          },
          "metadata": {
            "tags": []
          },
          "execution_count": 17
        }
      ]
    },
    {
      "cell_type": "markdown",
      "metadata": {
        "id": "cBqltsx5vvY2"
      },
      "source": [
        "## 1.3. Удалите пустые строки, если они есть"
      ]
    },
    {
      "cell_type": "code",
      "metadata": {
        "id": "EbUeXBBDvvY4"
      },
      "source": [
        "all_text_ = []\n",
        "all_labels_ = []\n",
        "\n",
        "for text, label in zip(all_text, all_labels):\n",
        "  if len(text) > 1:\n",
        "    all_text_.append(text)\n",
        "    all_labels_.append(label)\n",
        "\n",
        "all_text = all_text_\n",
        "all_labels = all_labels_"
      ],
      "execution_count": 18,
      "outputs": []
    },
    {
      "cell_type": "markdown",
      "metadata": {
        "id": "-_3tbIdivvY8"
      },
      "source": [
        "## 1. 4. Предварительный анализ коллекции"
      ]
    },
    {
      "cell_type": "markdown",
      "metadata": {
        "id": "mlS8hTPqvvY9"
      },
      "source": [
        "#### Средняя длина предложений"
      ]
    },
    {
      "cell_type": "code",
      "metadata": {
        "id": "JtEAowcevvY-"
      },
      "source": [
        "import pandas as pd"
      ],
      "execution_count": 19,
      "outputs": []
    },
    {
      "cell_type": "code",
      "metadata": {
        "id": "m3i_Wpk-vvZB"
      },
      "source": [
        "df = pd.DataFrame(all_text)"
      ],
      "execution_count": 20,
      "outputs": []
    },
    {
      "cell_type": "code",
      "metadata": {
        "id": "C_Z2QBHxvvZF"
      },
      "source": [
        "len_data = df[0].apply(len)"
      ],
      "execution_count": 21,
      "outputs": []
    },
    {
      "cell_type": "code",
      "metadata": {
        "id": "43u7a996vvZL",
        "colab": {
          "base_uri": "https://localhost:8080/"
        },
        "outputId": "e4da1e3f-2cf4-4630-dc1b-fbf4722eb75c"
      },
      "source": [
        "len_data.describe()"
      ],
      "execution_count": 22,
      "outputs": [
        {
          "output_type": "execute_result",
          "data": {
            "text/plain": [
              "count    9254.000000\n",
              "mean       76.079533\n",
              "std        53.813385\n",
              "min         2.000000\n",
              "25%        41.000000\n",
              "50%        63.000000\n",
              "75%        99.750000\n",
              "max       580.000000\n",
              "Name: 0, dtype: float64"
            ]
          },
          "metadata": {
            "tags": []
          },
          "execution_count": 22
        }
      ]
    },
    {
      "cell_type": "markdown",
      "metadata": {
        "id": "-8rZeQZGvvZR"
      },
      "source": [
        "#### Длины текстов в символах"
      ]
    },
    {
      "cell_type": "code",
      "metadata": {
        "id": "6auEQwoDvvZT",
        "colab": {
          "base_uri": "https://localhost:8080/"
        },
        "outputId": "efe70cf6-df04-47e0-cbaa-6b2c64d5b6f5"
      },
      "source": [
        "import matplotlib.pyplot as plt\n",
        "\n",
        "%pylab inline"
      ],
      "execution_count": 23,
      "outputs": [
        {
          "output_type": "stream",
          "text": [
            "Populating the interactive namespace from numpy and matplotlib\n"
          ],
          "name": "stdout"
        }
      ]
    },
    {
      "cell_type": "code",
      "metadata": {
        "id": "ZYVrcdEdvvZW",
        "colab": {
          "base_uri": "https://localhost:8080/",
          "height": 265
        },
        "outputId": "a4a1db46-490e-4845-f3f9-7f54ef5553e3"
      },
      "source": [
        "fig, ax = plt.subplots()\n",
        "\n",
        "n, bins, patches = ax.hist(len_data.tolist())\n",
        "\n",
        "fig.show()"
      ],
      "execution_count": 24,
      "outputs": [
        {
          "output_type": "display_data",
          "data": {
            "image/png": "[encoded data removed]",
            "text/plain": [
              "<Figure size 432x288 with 1 Axes>"
            ]
          },
          "metadata": {
            "tags": [],
            "needs_background": "light"
          }
        }
      ]
    },
    {
      "cell_type": "markdown",
      "metadata": {
        "id": "VvSdL8aUvvZZ"
      },
      "source": [
        "#### Самые частые слова"
      ]
    },
    {
      "cell_type": "markdown",
      "metadata": {
        "id": "FgphvxdPvvZZ"
      },
      "source": [
        "Токенизируйте предложения на слова (nltk.word_tokenize)"
      ]
    },
    {
      "cell_type": "code",
      "metadata": {
        "id": "AgyHHrIfvvZa"
      },
      "source": [
        "from nltk import word_tokenize\n",
        "\n",
        "\n",
        "all_text = [word_tokenize(line) for line in all_text]"
      ],
      "execution_count": 25,
      "outputs": []
    },
    {
      "cell_type": "code",
      "metadata": {
        "id": "xn_zXzuPvvZe",
        "colab": {
          "base_uri": "https://localhost:8080/"
        },
        "outputId": "ee6b88f0-d475-4f33-fc55-9fd5a332480a"
      },
      "source": [
        "from nltk import FreqDist\n",
        "\n",
        "\n",
        "n_types = []\n",
        "n_tokens = []\n",
        "fd = FreqDist()\n",
        "for line in all_text:\n",
        "    fd.update(line)\n",
        "    n_types.append(len(fd))\n",
        "    n_tokens.append(sum(list(fd.values())))\n",
        "for i in fd.most_common(10):\n",
        "    print(i)"
      ],
      "execution_count": 26,
      "outputs": [
        {
          "output_type": "stream",
          "text": [
            "('(', 9258)\n",
            "(')', 8719)\n",
            "(',', 8270)\n",
            "('.', 7114)\n",
            "(':', 4787)\n",
            "('не', 2960)\n",
            "('!', 2899)\n",
            "('и', 2335)\n",
            "('в', 2294)\n",
            "('я', 2133)\n"
          ],
          "name": "stdout"
        }
      ]
    },
    {
      "cell_type": "markdown",
      "metadata": {
        "id": "TtUzN568vvZh"
      },
      "source": [
        "#### Закон Ципфа\n",
        "\n",
        "В любом достаточно большом тексте ранг типа обратно пропорционален его частоте: f=a/r\n",
        "\n",
        "f – частота типа, r – ранг типа, a – параметр, для славянских языков – около 0.07"
      ]
    },
    {
      "cell_type": "code",
      "metadata": {
        "id": "I8Y-ICsDvvZi",
        "colab": {
          "base_uri": "https://localhost:8080/",
          "height": 265
        },
        "outputId": "cbad2950-541c-482a-d850-b8880312d1b5"
      },
      "source": [
        "freqs = list(fd.values())\n",
        "freqs = sorted(freqs, reverse = True)\n",
        "\n",
        "fig, ax = plt.subplots()\n",
        "ax.plot(freqs[:300], range(300))\n",
        "plt.show()"
      ],
      "execution_count": 27,
      "outputs": [
        {
          "output_type": "display_data",
          "data": {
            "image/png": "[encoded data removed]",
            "text/plain": [
              "<Figure size 432x288 with 1 Axes>"
            ]
          },
          "metadata": {
            "tags": [],
            "needs_background": "light"
          }
        }
      ]
    },
    {
      "cell_type": "markdown",
      "metadata": {
        "id": "Md-yj35CvvZl"
      },
      "source": [
        "#### Закон Хипса\n",
        "\n",
        "С увеличением длины текста (количества токенов), количество типов увеличивается в соответствии с законом: |V|=K∗N^b\n",
        "\n",
        "N – число токенов, |V| – количество типов в словаре, K,b – параметры, обычно K∈[10,100],b∈[0.4,0.6]"
      ]
    },
    {
      "cell_type": "code",
      "metadata": {
        "id": "NJ3vnrl9vvZm",
        "colab": {
          "base_uri": "https://localhost:8080/",
          "height": 265
        },
        "outputId": "6dc739fe-2f10-4ed8-c840-ce0e851c13dd"
      },
      "source": [
        "fig, ax = plt.subplots()\n",
        "ax.plot(n_types, n_tokens)\n",
        "plt.show()"
      ],
      "execution_count": 28,
      "outputs": [
        {
          "output_type": "display_data",
          "data": {
            "image/png": "[encoded data removed]",
            "text/plain": [
              "<Figure size 432x288 with 1 Axes>"
            ]
          },
          "metadata": {
            "tags": [],
            "needs_background": "light"
          }
        }
      ]
    },
    {
      "cell_type": "markdown",
      "metadata": {
        "id": "fRHiJz0ZvvZp"
      },
      "source": [
        "## 1.5. Подготовим данные для nltk.NaiveBayesClassifier\n",
        "\n",
        "Классификатор принимает данные о предложении в виде словаря {\"слово\": #количество встреч в предожении}\n",
        "\n",
        "Используйсте Counter. Пример работы:\n",
        "\n",
        "`Counter('abracadabra')`\n",
        "\n",
        ">Counter({'a': 5, 'b': 2, 'c': 1, 'd': 1, 'r': 2})"
      ]
    },
    {
      "cell_type": "code",
      "metadata": {
        "id": "8KvwGb86vvZq"
      },
      "source": [
        "from collections import Counter"
      ],
      "execution_count": 29,
      "outputs": []
    },
    {
      "cell_type": "code",
      "metadata": {
        "id": "Lq7hs2GTeV3N",
        "colab": {
          "base_uri": "https://localhost:8080/"
        },
        "outputId": "48826b4f-2505-4419-8ca8-89f48eb5cef6"
      },
      "source": [
        "print(all_text[0])"
      ],
      "execution_count": 30,
      "outputs": [
        {
          "output_type": "stream",
          "text": [
            "['@', 'first_timee', 'хоть', 'я', 'и', 'школота', ',', 'но', 'поверь', ',', 'у', 'нас', 'то', 'же', 'самое', ':', 'D', 'общество', 'профилирующий', 'предмет', 'типа', ')', '.']\n"
          ],
          "name": "stdout"
        }
      ]
    },
    {
      "cell_type": "code",
      "metadata": {
        "id": "vq4w7qLnvvZu",
        "colab": {
          "base_uri": "https://localhost:8080/"
        },
        "outputId": "08cbfad0-a239-4946-fd59-2ef84241dd8f"
      },
      "source": [
        "all_text = list(map(Counter, all_text))\n",
        "print(all_text[0])"
      ],
      "execution_count": 31,
      "outputs": [
        {
          "output_type": "stream",
          "text": [
            "Counter({',': 2, '@': 1, 'first_timee': 1, 'хоть': 1, 'я': 1, 'и': 1, 'школота': 1, 'но': 1, 'поверь': 1, 'у': 1, 'нас': 1, 'то': 1, 'же': 1, 'самое': 1, ':': 1, 'D': 1, 'общество': 1, 'профилирующий': 1, 'предмет': 1, 'типа': 1, ')': 1, '.': 1})\n"
          ],
          "name": "stdout"
        }
      ]
    },
    {
      "cell_type": "markdown",
      "metadata": {
        "id": "c-A0O3VSvvZw"
      },
      "source": [
        "## 1.6. Обучим модель"
      ]
    },
    {
      "cell_type": "code",
      "metadata": {
        "id": "TnUuD70SvvZx"
      },
      "source": [
        "from sklearn.metrics import accuracy_score\n",
        "from nltk import NaiveBayesClassifier\n",
        "from sklearn.model_selection import train_test_split"
      ],
      "execution_count": 32,
      "outputs": []
    },
    {
      "cell_type": "code",
      "metadata": {
        "id": "pKhbG5ntvvZ2"
      },
      "source": [
        "train_indecies, test_indecies = train_test_split(np.arange(len(all_text)), test_size=0.3, random_state=1)"
      ],
      "execution_count": 33,
      "outputs": []
    },
    {
      "cell_type": "code",
      "metadata": {
        "id": "Wljy2QcNvvZ7"
      },
      "source": [
        "all_text = np.array(all_text)\n",
        "all_labels = np.array(all_labels)\n",
        "\n",
        "X_train, X_test = all_text[train_indecies], all_text[test_indecies]\n",
        "y_train, y_test = all_labels[train_indecies], all_labels[test_indecies]"
      ],
      "execution_count": 34,
      "outputs": []
    },
    {
      "cell_type": "code",
      "metadata": {
        "id": "IlsV8jltvvZ-"
      },
      "source": [
        "clf = NaiveBayesClassifier.train(zip(X_train, y_train))"
      ],
      "execution_count": 35,
      "outputs": []
    },
    {
      "cell_type": "markdown",
      "metadata": {
        "id": "_J6R5jzkvvaC"
      },
      "source": [
        "### Протестируем качество классификации"
      ]
    },
    {
      "cell_type": "code",
      "metadata": {
        "id": "HyepqQpOvvaD",
        "colab": {
          "base_uri": "https://localhost:8080/"
        },
        "outputId": "1826ced1-0068-4a71-efeb-2ce7d8144a04"
      },
      "source": [
        "pred = clf.classify_many(X_test)\n",
        "accuracy_score(y_test, pred)"
      ],
      "execution_count": 36,
      "outputs": [
        {
          "output_type": "execute_result",
          "data": {
            "text/plain": [
              "0.9200576161325171"
            ]
          },
          "metadata": {
            "tags": []
          },
          "execution_count": 36
        }
      ]
    },
    {
      "cell_type": "markdown",
      "metadata": {
        "id": "DgSCJTaWvvaG"
      },
      "source": [
        "## 1.7. Добавим признаков\n",
        "\n",
        "Для каждого примера добавим количество частей речи в нем. Если мы встретили знак пунктуации, то обозначим его как 'PNCT'."
      ]
    },
    {
      "cell_type": "code",
      "metadata": {
        "id": "yAm6akUXvvaH"
      },
      "source": [
        "import pymorphy2"
      ],
      "execution_count": 39,
      "outputs": []
    },
    {
      "cell_type": "code",
      "metadata": {
        "id": "PD6COBuFvvaJ"
      },
      "source": [
        "morph = pymorphy2.analyzer.MorphAnalyzer()"
      ],
      "execution_count": 40,
      "outputs": []
    },
    {
      "cell_type": "code",
      "metadata": {
        "id": "PUAs-BayhjOS"
      },
      "source": [
        "morph.parse(\".\")[0].tag.POS"
      ],
      "execution_count": 41,
      "outputs": []
    },
    {
      "cell_type": "markdown",
      "metadata": {
        "id": "p5qgTgwLvvaM"
      },
      "source": [
        "Используйте pymorphy2.analyzer.MorphAnalyzer.parse"
      ]
    },
    {
      "cell_type": "code",
      "metadata": {
        "id": "LIoFq5sHvvaN"
      },
      "source": [
        "all_text_with_pos = []\n",
        "for sample in all_text:\n",
        "    update = Counter(sample)\n",
        "    for word, count in sample.items():\n",
        "        pos = str(morph.parse(word)[0].tag.POS)\n",
        "        if not pos:\n",
        "          pos = \"PNCT\"\n",
        "        update.update({pos: count})\n",
        "    all_text_with_pos.append(update)"
      ],
      "execution_count": 51,
      "outputs": []
    },
    {
      "cell_type": "code",
      "metadata": {
        "id": "m8sm-_0LvvaR"
      },
      "source": [
        "all_text_with_pos = np.array(all_text_with_pos)\n",
        "all_labels = np.array(all_labels)\n",
        "\n",
        "X_train, X_test = all_text_with_pos[train_indecies], all_text_with_pos[test_indecies]\n",
        "y_train, y_test = all_labels[train_indecies], all_labels[test_indecies]"
      ],
      "execution_count": 52,
      "outputs": []
    },
    {
      "cell_type": "code",
      "metadata": {
        "id": "91QLaDP5vvaa"
      },
      "source": [
        "clf = NaiveBayesClassifier.train(zip(X_train, y_train))"
      ],
      "execution_count": 53,
      "outputs": []
    },
    {
      "cell_type": "code",
      "metadata": {
        "id": "q_ML96Dlvvae",
        "colab": {
          "base_uri": "https://localhost:8080/"
        },
        "outputId": "603b3a66-67c1-40f2-fdce-422660a830f1"
      },
      "source": [
        "pred = clf.classify_many(X_test)\n",
        "accuracy_score(y_test, pred)"
      ],
      "execution_count": 54,
      "outputs": [
        {
          "output_type": "execute_result",
          "data": {
            "text/plain": [
              "0.9171768095066619"
            ]
          },
          "metadata": {
            "tags": []
          },
          "execution_count": 54
        }
      ]
    },
    {
      "cell_type": "markdown",
      "metadata": {
        "id": "1M_XNR_Uvvai"
      },
      "source": [
        "### Попробуем лемматизировать слова\n",
        "\n",
        "Обучите тот же классификатор но на примерах, где все слова в нормальной форме."
      ]
    },
    {
      "cell_type": "code",
      "metadata": {
        "id": "D__e3BVMvval"
      },
      "source": [
        "all_text_with_pos = []\n",
        "for sample in all_text:\n",
        "    update = Counter()\n",
        "    for word, count in sample.items():\n",
        "        parsed = morph.parse(word)[0].normal_form\n",
        "        update.update({parsed: count})\n",
        "    all_text_with_pos.append(update)"
      ],
      "execution_count": 55,
      "outputs": []
    },
    {
      "cell_type": "code",
      "metadata": {
        "id": "FbtMzYw3vvas"
      },
      "source": [
        "all_text_with_pos = np.array(all_text_with_pos)\n",
        "all_labels = np.array(all_labels)\n",
        "\n",
        "X_train, X_test = all_text_with_pos[train_indecies], all_text_with_pos[test_indecies]\n",
        "y_train, y_test = all_labels[train_indecies], all_labels[test_indecies]"
      ],
      "execution_count": 56,
      "outputs": []
    },
    {
      "cell_type": "code",
      "metadata": {
        "id": "9NN2ozbNvvaw",
        "colab": {
          "base_uri": "https://localhost:8080/"
        },
        "outputId": "d13f443b-cf1e-4721-cba1-ffb7cb153c84"
      },
      "source": [
        "clf = NaiveBayesClassifier.train(zip(X_train, y_train))\n",
        "\n",
        "pred = clf.classify_many(X_test)\n",
        "accuracy_score(y_test, pred)"
      ],
      "execution_count": 57,
      "outputs": [
        {
          "output_type": "execute_result",
          "data": {
            "text/plain": [
              "0.9193374144760533"
            ]
          },
          "metadata": {
            "tags": []
          },
          "execution_count": 57
        }
      ]
    },
    {
      "cell_type": "markdown",
      "metadata": {
        "id": "laHZHIwSvvay"
      },
      "source": [
        "### Удалим стоп-слова"
      ]
    },
    {
      "cell_type": "code",
      "metadata": {
        "id": "093KonqIvvay"
      },
      "source": [
        "from nltk.corpus import stopwords\n",
        "\n",
        "stops = stopwords.words(\"russian\")"
      ],
      "execution_count": 58,
      "outputs": []
    },
    {
      "cell_type": "code",
      "metadata": {
        "id": "sT9mEW9Bvva2"
      },
      "source": [
        "all_text_without_stops = []\n",
        "for sample in all_text:\n",
        "    update = Counter()\n",
        "    for word, count in sample.items():\n",
        "      if word not in stops:\n",
        "        update.update({word: count})\n",
        "    all_text_without_stops.append(update)"
      ],
      "execution_count": 60,
      "outputs": []
    },
    {
      "cell_type": "code",
      "metadata": {
        "id": "biC3D2F6vva3"
      },
      "source": [
        "all_text_without_stops = np.array(all_text_without_stops)\n",
        "all_labels = np.array(all_labels)\n",
        "\n",
        "X_train, X_test = all_text_without_stops[train_indecies], all_text_without_stops[test_indecies]\n",
        "y_train, y_test = all_labels[train_indecies], all_labels[test_indecies]"
      ],
      "execution_count": 61,
      "outputs": []
    },
    {
      "cell_type": "code",
      "metadata": {
        "id": "3gbJ-n0avva8",
        "colab": {
          "base_uri": "https://localhost:8080/"
        },
        "outputId": "879d5293-4e77-416c-bfe2-04e7de82c039"
      },
      "source": [
        "clf = NaiveBayesClassifier.train(zip(X_train, y_train))\n",
        "\n",
        "pred = clf.classify_many(X_test)\n",
        "accuracy_score(y_test, pred)"
      ],
      "execution_count": 62,
      "outputs": [
        {
          "output_type": "execute_result",
          "data": {
            "text/plain": [
              "0.9214980194454447"
            ]
          },
          "metadata": {
            "tags": []
          },
          "execution_count": 62
        }
      ]
    },
    {
      "cell_type": "markdown",
      "metadata": {
        "id": "YgDAG726vvbA"
      },
      "source": [
        "### Как менялось качество? Почему?"
      ]
    },
    {
      "cell_type": "code",
      "metadata": {
        "id": "SOX6TuoRvvbB"
      },
      "source": [
        "<your answer here>"
      ],
      "execution_count": null,
      "outputs": []
    },
    {
      "cell_type": "markdown",
      "metadata": {
        "id": "ccToX2lFvvbD"
      },
      "source": [
        "# Часть 2. Использование знаний морфологии для генерации текста\n",
        "\n",
        "Задание: написать шаблон вида: {person} {action} {count} {target}. Где\n",
        "\n",
        "Person - лицо которое выполняет действие action. Каждое такое действие может быть в трех временах (настоящее, прошедшее и будущее). Действие выполняется с целью target. Такая цель - это некоторый объект или объекты числом count. count>0.\n",
        "\n",
        "Используйте make_agree_with_number, parse и inflect из библиотеки pymorphy2.\n",
        "\n",
        "Времена глаголов в документации pymorphy2: past (прошедшее), pres (настоящее), futr (будущее)."
      ]
    },
    {
      "cell_type": "code",
      "metadata": {
        "id": "Nihun42HvvbG"
      },
      "source": [
        "import pymorphy2\n",
        "morph = pymorphy2.analyzer.MorphAnalyzer()"
      ],
      "execution_count": 1,
      "outputs": []
    },
    {
      "cell_type": "markdown",
      "metadata": {
        "id": "uxIwtPVfvvbJ"
      },
      "source": [
        "Согласование существительного с числом."
      ]
    },
    {
      "cell_type": "code",
      "metadata": {
        "id": "W9riKoiZvvbK",
        "colab": {
          "base_uri": "https://localhost:8080/"
        },
        "outputId": "8fbeb33c-4761-48a4-e05f-5688eea3454c"
      },
      "source": [
        "butyavka = morph.parse(\"бутявка\")[0]\n",
        "butyavka.make_agree_with_number(2)"
      ],
      "execution_count": 2,
      "outputs": [
        {
          "output_type": "execute_result",
          "data": {
            "text/plain": [
              "Parse(word='бутявки', tag=OpencorporaTag('NOUN,inan,femn sing,gent'), normal_form='бутявка', score=1.0, methods_stack=((<DictionaryAnalyzer>, 'явки', 8, 1), (<UnknownPrefixAnalyzer>, 'бут')))"
            ]
          },
          "metadata": {
            "tags": []
          },
          "execution_count": 2
        }
      ]
    },
    {
      "cell_type": "markdown",
      "metadata": {
        "id": "0WNQ7rSmvvbQ"
      },
      "source": [
        "Чтобы поставить слово в нужную форму используется inflect"
      ]
    },
    {
      "cell_type": "code",
      "metadata": {
        "id": "z7q4PIzOvvbQ",
        "colab": {
          "base_uri": "https://localhost:8080/"
        },
        "outputId": "d0d85e18-2656-4858-9429-5a1c2b0bf6fa"
      },
      "source": [
        "butyavka.inflect({'gent'})  # нет кого? (родительный падеж)"
      ],
      "execution_count": 3,
      "outputs": [
        {
          "output_type": "execute_result",
          "data": {
            "text/plain": [
              "Parse(word='бутявки', tag=OpencorporaTag('NOUN,inan,femn sing,gent'), normal_form='бутявка', score=1.0, methods_stack=((<DictionaryAnalyzer>, 'явки', 8, 1), (<UnknownPrefixAnalyzer>, 'бут')))"
            ]
          },
          "metadata": {
            "tags": []
          },
          "execution_count": 3
        }
      ]
    },
    {
      "cell_type": "code",
      "metadata": {
        "id": "jPzshACSvvbT",
        "colab": {
          "base_uri": "https://localhost:8080/"
        },
        "outputId": "a6726b97-a09c-4443-bc5b-6cad17bb55f0"
      },
      "source": [
        "butyavka.inflect({'plur', 'gent'})"
      ],
      "execution_count": 4,
      "outputs": [
        {
          "output_type": "execute_result",
          "data": {
            "text/plain": [
              "Parse(word='бутявок', tag=OpencorporaTag('NOUN,inan,femn plur,gent'), normal_form='бутявка', score=1.0, methods_stack=((<DictionaryAnalyzer>, 'явок', 8, 8), (<UnknownPrefixAnalyzer>, 'бут')))"
            ]
          },
          "metadata": {
            "tags": []
          },
          "execution_count": 4
        }
      ]
    },
    {
      "cell_type": "code",
      "metadata": {
        "id": "xzbq8YTkvvbW"
      },
      "source": [
        "def genarate(person, action, time, count, target):\n",
        "    # Поставьте action в нужное время\n",
        "    action = morph.parse(action)[0].inflect({time, \"indc\"}).word\n",
        "    # Согласуйте target с числом\n",
        "    target = morph.parse(target)[0].make_agree_with_number(count).word\n",
        "    return f\"{person} {action} {count} {target}\""
      ],
      "execution_count": 5,
      "outputs": []
    },
    {
      "cell_type": "code",
      "metadata": {
        "id": "yRoHaFgvvvbY",
        "colab": {
          "base_uri": "https://localhost:8080/",
          "height": 35
        },
        "outputId": "69c51066-3e25-4675-9c00-7630557cad1a"
      },
      "source": [
        "genarate(\"Антон\", \"продать\", \"past\", 5, \"товар\")"
      ],
      "execution_count": 6,
      "outputs": [
        {
          "output_type": "execute_result",
          "data": {
            "application/vnd.google.colaboratory.intrinsic+json": {
              "type": "string"
            },
            "text/plain": [
              "'Антон продал 5 товаров'"
            ]
          },
          "metadata": {
            "tags": []
          },
          "execution_count": 6
        }
      ]
    }
  ]
}